{
 "cells": [
  {
   "cell_type": "code",
   "execution_count": 17,
   "id": "a4cbc254",
   "metadata": {},
   "source": [
    "!pip install python-bidi\n",
    "!pip install arabic-reshaper\n",
    "import numpy as np\n",
    "import matplotlib.pyplot as plt\n",
    "from bidi.algorithm import get_display\n",
    "import arabic_reshaper"
   ]
  },
  {
   "cell_type": "code",
   "execution_count": 18,
   "id": "8888f696",
   "metadata": {},
   "outputs": [
    {
     "data": {
      "image/png": "[encoded data removed]",
      "text/plain": [
       "<Figure size 432x288 with 1 Axes>"
      ]
     },
     "metadata": {
      "needs_background": "light"
     },
     "output_type": "display_data"
    }
   ],
   "source": [
    "Area = [1,2,4,5,6,8]\n",
    "Price = [2,3,6,8,7,10]\n",
    "plt.scatter(Area, Price,color='red')\n",
    "plt.xlabel(get_display(arabic_reshaper.reshape(\"متراژ\")))\n",
    "plt.ylabel(get_display(arabic_reshaper.reshape(\"قیمت\")))\n",
    "plt.savefig('1.jpg',dpi=200)"
   ]
  },
  {
   "cell_type": "code",
   "execution_count": 19,
   "id": "a0c173b7",
   "metadata": {},
   "outputs": [
    {
     "name": "stdout",
     "output_type": "stream",
     "text": [
      "Area average: 4.333333333333333\n",
      "Price average: 6.0\n"
     ]
    }
   ],
   "source": [
    "import numpy as np\n",
    "x = np.array([1,2,4,5,6,8])\n",
    "y = np.array([2,3,6,8,7,10])\n",
    "print(\"Area average:\",x.mean())\n",
    "print(\"Price average:\",y.mean())"
   ]
  },
  {
   "cell_type": "code",
   "execution_count": 20,
   "id": "66bf6d97",
   "metadata": {},
   "outputs": [
    {
     "name": "stdout",
     "output_type": "stream",
     "text": [
      "B1 : 1.14\n"
     ]
    }
   ],
   "source": [
    "b1 = np.cov(x,y=y)[0][1] / np.cov(x)\n",
    "print(\"B1 :\",b1)"
   ]
  },
  {
   "cell_type": "code",
   "execution_count": 21,
   "id": "36532c98",
   "metadata": {},
   "outputs": [
    {
     "name": "stdout",
     "output_type": "stream",
     "text": [
      "B0 : 1.06\n"
     ]
    }
   ],
   "source": [
    "b0 = y.mean() - b1 * x.mean()\n",
    "print(\"B0 :\",round(b0,4))"
   ]
  },
  {
   "cell_type": "code",
   "execution_count": 22,
   "id": "0b3cff96",
   "metadata": {},
   "outputs": [],
   "source": [
    "def predict(x):\n",
    "    return b0 + b1 * x"
   ]
  },
  {
   "cell_type": "code",
   "execution_count": 23,
   "id": "9622e036",
   "metadata": {},
   "outputs": [],
   "source": [
    "y_pred = predict(x)"
   ]
  },
  {
   "cell_type": "code",
   "execution_count": 27,
   "id": "60b7201d",
   "metadata": {},
   "outputs": [
    {
     "data": {
      "image/png": "[encoded data removed]",
      "text/plain": [
       "<Figure size 432x288 with 1 Axes>"
      ]
     },
     "metadata": {
      "needs_background": "light"
     },
     "output_type": "display_data"
    }
   ],
   "source": [
    "plt.scatter(x,y,color='red')\n",
    "plt.plot(x,y_pred,color='blue')\n",
    "plt.xlabel(get_display(arabic_reshaper.reshape(\"متراژ\")))\n",
    "plt.ylabel(get_display(arabic_reshaper.reshape(\"قیمت\")))\n",
    "plt.savefig('2.jpg',dpi=200)"
   ]
  },
  {
   "cell_type": "code",
   "execution_count": 53,
   "id": "96ca9b25",
   "metadata": {},
   "outputs": [
    {
     "name": "stdout",
     "output_type": "stream",
     "text": [
      "MSE : 0.4466666666666668\n"
     ]
    }
   ],
   "source": [
    "MSE = np.square(np.subtract(y,y_pred)).mean()\n",
    "print(\"MSE :\",MSE)"
   ]
  },
  {
   "cell_type": "code",
   "execution_count": null,
   "id": "5a2f4800",
   "metadata": {},
   "outputs": [],
   "source": []
  }
 ],
 "metadata": {
  "kernelspec": {
   "display_name": "Python 3 (ipykernel)",
   "language": "python",
   "name": "python3"
  },
  "language_info": {
   "codemirror_mode": {
    "name": "ipython",
    "version": 3
   },
   "file_extension": ".py",
   "mimetype": "text/x-python",
   "name": "python",
   "nbconvert_exporter": "python",
   "pygments_lexer": "ipython3",
   "version": "3.8.6"
  }
 },
 "nbformat": 4,
 "nbformat_minor": 5
}
